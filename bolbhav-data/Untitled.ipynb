{
 "cells": [
  {
   "cell_type": "code",
   "execution_count": 1,
   "id": "b4b7ab1d",
   "metadata": {},
   "outputs": [],
   "source": [
    "import pandas as pd"
   ]
  },
  {
   "cell_type": "code",
   "execution_count": 6,
   "id": "9c641233",
   "metadata": {},
   "outputs": [],
   "source": [
    "df=pd.read_excel(\"Gramhal_ Pan-India Mappings.xlsx\")"
   ]
  },
  {
   "cell_type": "code",
   "execution_count": 7,
   "id": "98835bce",
   "metadata": {},
   "outputs": [
    {
     "data": {
      "text/html": [
       "<div>\n",
       "<style scoped>\n",
       "    .dataframe tbody tr th:only-of-type {\n",
       "        vertical-align: middle;\n",
       "    }\n",
       "\n",
       "    .dataframe tbody tr th {\n",
       "        vertical-align: top;\n",
       "    }\n",
       "\n",
       "    .dataframe thead th {\n",
       "        text-align: right;\n",
       "    }\n",
       "</style>\n",
       "<table border=\"1\" class=\"dataframe\">\n",
       "  <thead>\n",
       "    <tr style=\"text-align: right;\">\n",
       "      <th></th>\n",
       "      <th>Unnamed: 0</th>\n",
       "      <th>Hello!\\n\\nThis sheet is a repository of pan-India location mappings and other key resources needed for providing agri-advisory to farmers. The data was pulled from multiple government websites, last updated in Jan, '23. We are making this information open in an effort to build an open-source community around rural information data in India.\\n\\nIf you find data missing or inaccurate, please leave a feedback in the Feedback sheet tab below and we will be sure to update it. \\nYou can also duplicate the sheet tab, update your changes and keep it here if there are multiple fixes needed, or, add a new sheet if you validated mappings around a new resource. In both cases, please add a separate sheet tab titled '&lt;Your Org/Name&gt; - &lt;Data Title&gt;' and keep the Tab colour as Red. Post review, a sheet's colour will be shifted to Blue, indicating data is verified.\\nAs we have done with our data, you can also protect your individual sheets and people can suggest edits around your data in the Feedback tab.\\n\\nTo begin with, Gramhal's repo contains pan-India data around:\\n\\n1. Location Mapping: Mapping of States to Divisions, Districts and Blocks (Currently excluding Union Territories)\\n\\n2. Mandi Mapping: Mapping of all mandis to the districts and states they belong in (Currently excluding Union Territories)\\n\\n3. IMD Mapping: Mapping of Indian Meteorological Department along with the link format you can use to receive weather updates and crop advisory from IMD\\n\\n4. Nearby District Mapping: For each district in India, a mapping of the districts it shares a physical boundary with. We have a maximum of 7 neighbours.\\n\\n5. Agmark Mandis: Agmark (agmarknet.gov.in/) is the most reliable government-run agri-info site that provides latest mandi prices for mandis across India. The mapping here consists of all the names of the mandis as provided in the website and their respective districts and states\\n\\n6. Agmark Crops: Mapping of all crop names provided in Agmark - further broken down into parent crop and varieties - and also with crop types for further categorisation present across India.\\n\\n7. State Website Links: Links for individual agri state websites for each state and our feedback on whether they provide agri information as intended or not\\n\\nIf you find our work helpful or have any other comments on how we could improve it, please leave a comment in the Feedback Sheet tab. Thanks! :)</th>\n",
       "    </tr>\n",
       "  </thead>\n",
       "  <tbody>\n",
       "  </tbody>\n",
       "</table>\n",
       "</div>"
      ],
      "text/plain": [
       "Empty DataFrame\n",
       "Columns: [Unnamed: 0, Hello!\n",
       "\n",
       "This sheet is a repository of pan-India location mappings and other key resources needed for providing agri-advisory to farmers. The data was pulled from multiple government websites, last updated in Jan, '23. We are making this information open in an effort to build an open-source community around rural information data in India.\n",
       "\n",
       "If you find data missing or inaccurate, please leave a feedback in the Feedback sheet tab below and we will be sure to update it. \n",
       "You can also duplicate the sheet tab, update your changes and keep it here if there are multiple fixes needed, or, add a new sheet if you validated mappings around a new resource. In both cases, please add a separate sheet tab titled '<Your Org/Name> - <Data Title>' and keep the Tab colour as Red. Post review, a sheet's colour will be shifted to Blue, indicating data is verified.\n",
       "As we have done with our data, you can also protect your individual sheets and people can suggest edits around your data in the Feedback tab.\n",
       "\n",
       "To begin with, Gramhal's repo contains pan-India data around:\n",
       "\n",
       "1. Location Mapping: Mapping of States to Divisions, Districts and Blocks (Currently excluding Union Territories)\n",
       "\n",
       "2. Mandi Mapping: Mapping of all mandis to the districts and states they belong in (Currently excluding Union Territories)\n",
       "\n",
       "3. IMD Mapping: Mapping of Indian Meteorological Department along with the link format you can use to receive weather updates and crop advisory from IMD\n",
       "\n",
       "4. Nearby District Mapping: For each district in India, a mapping of the districts it shares a physical boundary with. We have a maximum of 7 neighbours.\n",
       "\n",
       "5. Agmark Mandis: Agmark (agmarknet.gov.in/) is the most reliable government-run agri-info site that provides latest mandi prices for mandis across India. The mapping here consists of all the names of the mandis as provided in the website and their respective districts and states\n",
       "\n",
       "6. Agmark Crops: Mapping of all crop names provided in Agmark - further broken down into parent crop and varieties - and also with crop types for further categorisation present across India.\n",
       "\n",
       "7. State Website Links: Links for individual agri state websites for each state and our feedback on whether they provide agri information as intended or not\n",
       "\n",
       "If you find our work helpful or have any other comments on how we could improve it, please leave a comment in the Feedback Sheet tab. Thanks! :)]\n",
       "Index: []"
      ]
     },
     "execution_count": 7,
     "metadata": {},
     "output_type": "execute_result"
    }
   ],
   "source": [
    "df"
   ]
  },
  {
   "cell_type": "code",
   "execution_count": 4,
   "id": "387bb648",
   "metadata": {},
   "outputs": [],
   "source": [
    "#only punjab apmc mandis available"
   ]
  },
  {
   "cell_type": "code",
   "execution_count": null,
   "id": "a8c6c442",
   "metadata": {},
   "outputs": [],
   "source": []
  }
 ],
 "metadata": {
  "kernelspec": {
   "display_name": "Python 3 (ipykernel)",
   "language": "python",
   "name": "python3"
  },
  "language_info": {
   "codemirror_mode": {
    "name": "ipython",
    "version": 3
   },
   "file_extension": ".py",
   "mimetype": "text/x-python",
   "name": "python",
   "nbconvert_exporter": "python",
   "pygments_lexer": "ipython3",
   "version": "3.11.3"
  }
 },
 "nbformat": 4,
 "nbformat_minor": 5
}
